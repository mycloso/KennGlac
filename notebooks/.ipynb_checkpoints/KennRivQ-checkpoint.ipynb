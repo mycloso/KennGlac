{
 "cells": [
  {
   "cell_type": "markdown",
   "id": "89aed64b-5378-425c-bb4c-c004778f1cd3",
   "metadata": {},
   "source": [
    "## KennRivQ.ipynb, Kennicott River Discharge loader / plotter / integrator\n",
    "### Mike Loso, Updated 12/4/2021 \n",
    "\n",
    "This code imports a 15-minute record of river discharge from Kennicott River (Kenn River stage 2021_11_12.xlsx), resamples at hourly time step, plots it, then extracts a particular time period and plots that. \n",
    "\n",
    "Finally it integrates the discharge record to calculate total discharge over the period of record, including plotting of annual (summer) discharge for each year in a box plot.\n"
   ]
  },
  {
   "cell_type": "code",
   "execution_count": null,
   "id": "83e1e5de-3ac6-42d6-84d4-fe2acf9c00a1",
   "metadata": {},
   "outputs": [],
   "source": [
    "## IMPORT PACKAGES\n",
    "\n",
    "import numpy as np\n",
    "import pandas as pd\n",
    "import datetime\n",
    "import matplotlib.pyplot as plt\n",
    "import datetime\n",
    "import numpy as np\n",
    "from sklearn import linear_model\n",
    "from sklearn.metrics import mean_squared_error, r2_score\n",
    "import os, csv\n",
    "from scipy import stats\n",
    "import statsmodels.formula.api as smf\n",
    "from mpl_toolkits.mplot3d import Axes3D\n",
    "\n",
    "%matplotlib widget"
   ]
  },
  {
   "cell_type": "code",
   "execution_count": null,
   "id": "81a3ecb3-0e2e-409e-9dba-2e86cc7f309d",
   "metadata": {},
   "outputs": [],
   "source": [
    "## LOAD DATA\n",
    "\n",
    "# set working directory\n",
    "data_dir = r'~/MLo/KennGlac/data'\n",
    "# Load an excel workbook that is in the local directory\n",
    "xlsx=pd.ExcelFile(os.path.join(data_dir,'Kenn River stage 2021_11_12.xlsx'))\n",
    "\n",
    "# Load the second worksheet as 'wb', treat -9999 as nan, make first column (Timestamp...) the index, ignore some columns, and start at the \"modern\" record\n",
    "wb=pd.read_excel(xlsx,sheet_name='master',na_values=[-9999],index_col=0,skiprows=range(1,10608),usecols=range(0,2),dtype={'b': np.float64})"
   ]
  },
  {
   "cell_type": "code",
   "execution_count": null,
   "id": "29044982-101a-4922-84b7-aa0637a9926f",
   "metadata": {
    "tags": []
   },
   "outputs": [],
   "source": [
    "# ## VIEW RAW DATA\n",
    "\n",
    "# # Print summary of worksheet\n",
    "# print(wb)\n",
    "\n",
    "# # Print datatypes (dtypes) of DataFrame (wb)\n",
    "# print(wb.dtypes)\n",
    "\n",
    "# # Plot raw data, set fig size\n",
    "# plt.rcParams[\"figure.figsize\"] = (10,6)\n",
    "# wb.plot();"
   ]
  },
  {
   "cell_type": "code",
   "execution_count": null,
   "id": "2a3f28c7-81c4-4e8f-b4e4-2b701cd351eb",
   "metadata": {
    "tags": []
   },
   "outputs": [],
   "source": [
    "## RESAMPLE AT HOURLY TIMESTEP AND CALCULATE HOURLY Q\n",
    "\n",
    "# create new pandas dataframe \"HOURLY\" for resampling\n",
    "hourly=pd.DataFrame()\n",
    "\n",
    "# resample at hourly\n",
    "hourly['Q'] = wb['Q (cfs)'].resample('H').mean() # resample by day and grab max, min, and avg\n",
    "\n",
    "# convert to hourly average cubic meters per second (Qm3s)\n",
    "hourly['Qm3s'] = hourly.Q*.02832\n",
    "\n",
    "# get column of hourly total Q (Qm3H)\n",
    "hourly['Qm3H'] = hourly.Qm3s*3600\n",
    "\n",
    "## VIEW RESAMPLED DATA\n",
    "\n",
    "# Print summary of hourly worksheet\n",
    "print(hourly)\n",
    "\n",
    "# Plot hourly Q (m3/s) for entire record\n",
    "fig,ax=plt.subplots(figsize=(10,5))\n",
    "hourly.Qm3s.plot();\n",
    "ax.set_xlabel('')\n",
    "ax.set_ylabel('Hourly river discharge (m^3/s)')\n",
    "plt.show()"
   ]
  },
  {
   "cell_type": "code",
   "execution_count": null,
   "id": "82dd7e1b-42d6-44b9-b5e8-ae2f9dd07757",
   "metadata": {
    "tags": []
   },
   "outputs": [],
   "source": [
    "## INTEGRATE Q OVER SELECTED TIME PERIOD\n",
    "\n",
    "# Select data from specific range\n",
    "## iNPUT: Choose start and end times ##\n",
    "start = pd.to_datetime('5/1/2021 00:00')\n",
    "end = pd.to_datetime('10/31/2021 23:00')\n",
    "\n",
    "# create 'rng', a table of just the selected time period\n",
    "rng=hourly[(start) : (end)]\n",
    "    \n",
    "# Plot data from that range\n",
    "fig,ax=plt.subplots()\n",
    "rng.Qm3s.plot();\n",
    "plt.show()\n",
    "\n",
    "# # calculate integral\n",
    "# # first get length of interval in hours (not strictly necessary but here is how to do it)\n",
    "# hours=np.datetime64(rng.index[-1],'h')-np.datetime64(rng.index[0],'h')\n",
    "\n",
    "# sum hourly contributions. Qtotal is m3 discharge over the total interval\n",
    "Qtotal=rng.Qm3H.sum()\n",
    "print(Qtotal)"
   ]
  },
  {
   "cell_type": "code",
   "execution_count": null,
   "id": "133b4e18-ff87-4af6-a5fb-ddf6dd596d47",
   "metadata": {
    "tags": []
   },
   "outputs": [],
   "source": [
    "## INTEGRATE SUMMER VALUES FOR EACH YEAR OF RECORD\n",
    "\n",
    "# integrate hourly values over selected period 2017-2021\n",
    "years=np.arange(2017,2022)\n",
    "# create empty array (list) to save Qtotals\n",
    "Qtotal=[]\n",
    "\n",
    "for t in years:\n",
    "    # Select data from specific range\n",
    "    rng=hourly[datetime.datetime(t,5,1,0,0,0):datetime.datetime(t,10,31,23,0,0)]\n",
    "\n",
    "    # calculate integral\n",
    "    # sum hourly contributions. Qtotal is m3 discharge over the total interval\n",
    "    temp=rng.Qm3H.sum()\n",
    "    # add Qtotal to growing list\n",
    "    Qtotal += [temp]\n",
    "    # Qtotal a vector of total Q (m3/s) for each summer, as defined by range above\n",
    "    \n",
    "print(Qtotal)\n",
    "# plot comparative discharges\n",
    "fig,ax = plt.subplots(figsize=(10,6))\n",
    "ax.set_ylabel('Total discharge (m^3)')\n",
    "ax.annotate\n",
    "plt.bar(years.tolist(),Qtotal)\n",
    "plt.show()\n"
   ]
  }
 ],
 "metadata": {
  "kernelspec": {
   "display_name": "Python 3 (ipykernel)",
   "language": "python",
   "name": "python3"
  },
  "language_info": {
   "codemirror_mode": {
    "name": "ipython",
    "version": 3
   },
   "file_extension": ".py",
   "mimetype": "text/x-python",
   "name": "python",
   "nbconvert_exporter": "python",
   "pygments_lexer": "ipython3",
   "version": "3.8.12"
  }
 },
 "nbformat": 4,
 "nbformat_minor": 5
}
