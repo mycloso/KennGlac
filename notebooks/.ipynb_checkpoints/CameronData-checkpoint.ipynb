{
 "cells": [
  {
   "cell_type": "markdown",
   "id": "bd0ce95a-80d8-4110-b744-bad1b11ffd29",
   "metadata": {},
   "source": [
    "## CameronData.ipynb, Cameron's debris-cover DDF results\n",
    "### Mike Loso, Updated 12/11/2021\n",
    "\n",
    "This code imports data I digitized from Cameron Markovsky's poster (using https://apps.automeris.io), the saved as an excel file, and plotted to reconstruct his melt curve for debris. It uses data collected on Kennicott Glacier in 2020.\n",
    " \n",
    "I chose a negative exponential equation with no fitted constant parameter that would set a minimum melt factor on thick debris. One could choose to add that parameter ('d') which would allow *some* melt on thick debris, and that might be better. But this is what I'm doing now, and especially on thin debris it fits the data, including that for clean ice, quite well."
   ]
  },
  {
   "cell_type": "code",
   "execution_count": null,
   "id": "a14cddbf-0d3e-4573-b1bd-e6e4299693b8",
   "metadata": {},
   "outputs": [],
   "source": [
    "## IMPORT PACKAGES\n",
    "\n",
    "# standard\n",
    "import numpy as np\n",
    "import pandas as pd\n",
    "%matplotlib widget\n",
    "import matplotlib.pyplot as plt\n",
    "import datetime\n",
    "import os, csv\n",
    "\n",
    "# specialized\n",
    "from scipy import stats\n",
    "from scipy.optimize import curve_fit\n",
    "# statsmodels is a nice tool for regressions\n",
    "import statsmodels.formula.api as smf\n",
    "import statsmodels.api as sm\n",
    "from numpy.polynomial import Chebyshev\n",
    "from numpy.polynomial.chebyshev import chebfit\n",
    "from mpl_toolkits.mplot3d import Axes3D\n",
    "import pickle"
   ]
  },
  {
   "cell_type": "code",
   "execution_count": null,
   "id": "1f760a62-824a-4242-8f3f-3782c61e6df8",
   "metadata": {},
   "outputs": [],
   "source": [
    "## LOAD DATA\n",
    "\n",
    "# set working directory\n",
    "data_dir = r'~/MLo/KennGlac/data/Markovsky data/Markovsky code_data 2021_12_10'\n",
    "# Load an excel workbook that is in the local directory\n",
    "xlsx=pd.ExcelFile(os.path.join(data_dir,'plotted_stake_values.xlsx'))\n",
    "\n",
    "# Load the first worksheet as 'wb'\n",
    "wb=pd.read_excel(xlsx,sheet_name='Sheet1',dtype={'b': np.float64},header=1)\n",
    "\n",
    "wb.head()\n"
   ]
  },
  {
   "cell_type": "code",
   "execution_count": null,
   "id": "5a849ec9-6c21-406c-b92f-df630024029f",
   "metadata": {},
   "outputs": [],
   "source": [
    "## SELECT AND PLOT JUST THE ACTUAL DATA\n",
    "\n",
    "fig,ax=plt.subplots(figsize=(8,5))\n",
    "# add my DDF for clean ice\n",
    "s_row=pd.Series(['Loso clean ice',0,np.NaN,6.60,'Loso'],index=wb.columns)\n",
    "wb=wb.append(s_row,ignore_index=True)\n",
    "\n",
    "#make scatter of data\n",
    "plt.scatter(wb['Debris Thickness'],wb['DDF'])\n",
    "plt.xlabel('Debris depth (cm)')\n",
    "plt.ylabel('Degree Day Factor (mm d^-1 degC^-1)')\n",
    "# plot my clean ice dot over the existing dot for emphasis\n",
    "plt.plot(0,6.60,color='red',marker='o')\n",
    "plt.xlim(-0.5,40)\n",
    "plt.ylim(-0.5,8)\n",
    "plt.show()\n"
   ]
  },
  {
   "cell_type": "code",
   "execution_count": null,
   "id": "5077e6f8-f030-4e2f-b290-2da4cfc1af35",
   "metadata": {
    "tags": []
   },
   "outputs": [],
   "source": [
    "## FIT EQUATION\n",
    "\n",
    "x=wb['Debris Thickness'].to_numpy()\n",
    "y=wb['DDF'].to_numpy()\n",
    "x=np.asarray(x)\n",
    "y=np.asarray(y)\n",
    "\n",
    "# define nice line for plotting fit\n",
    "xfit=np.linspace(0,40,100)\n",
    "\n",
    "def func(x,a,c,d):\n",
    "# alternate form omitting constant 'd'\n",
    "# def func(x,a,c):\n",
    "    return a*np.exp(-c*x)+d\n",
    "    # alternate form omitting a constant 'd'\n",
    "    # return a*np.exp(-c*x)\n",
    "popt,pcov=curve_fit(func,x,y,p0=(5,1e-6,0.5))\n",
    "# alternate form omitting constant 'd'\n",
    "# popt,pcov=curve_fit(func,x,y,p0=(5,1e-6))\n",
    "print(popt)\n",
    "print(pcov)\n",
    "\n",
    "# use fit parameters to get ys\n",
    "yy=func(xfit,*popt)\n",
    "# the equation below is the fitted version with no parameter 'd'\n",
    "# yy=6.4669*np.exp(-.08150151*xfit)\n",
    "fig,ax=plt.subplots(figsize=(10,5))\n",
    "plt.plot(x,y,'b.')\n",
    "plt.plot(xfit,yy,'k-')\n",
    "# plot my clean ice dot over the existing dot for emphasis\n",
    "plt.plot(0,6.60,color='red',marker='o')\n",
    "#make line of his fitted line\n",
    "# plt.plot(curve['debrisdepth(cm)'],curve['DDF(mm/dC)'],color='red')\n",
    "plt.xlabel('Debris depth (cm)')\n",
    "plt.ylabel('Degree Day Factor (mm d^-1 degC^-1)')\n",
    "plt.xlim(-0.5,30)\n",
    "plt.grid()\n",
    "plt.ylim(-0.5,7)\n",
    "plt.show()"
   ]
  },
  {
   "cell_type": "markdown",
   "id": "2f8882b8-5d18-4bf4-9de8-5956c7b5c020",
   "metadata": {},
   "source": [
    "## SUMMARY\n",
    "\n",
    "I fit a negative exponential equation to Cameron's 2020 data. As shown above, his data are in blue, except that I added the point at zero thickness, based on my DDF for clean ice. It seems to fit well. I didn't plot Cameron's curve. The equation for my curve is:\n",
    "\n",
    "DDF=a*e^(-cx)+d where a is 5.93712, c is -0.10651, and d is 1.06660, which you can code as y=5.93712*np.exp(-0.10651*x)+1.06660.  NOTE THAT X IS units CM"
   ]
  }
 ],
 "metadata": {
  "kernelspec": {
   "display_name": "Python 3 (ipykernel)",
   "language": "python",
   "name": "python3"
  },
  "language_info": {
   "codemirror_mode": {
    "name": "ipython",
    "version": 3
   },
   "file_extension": ".py",
   "mimetype": "text/x-python",
   "name": "python",
   "nbconvert_exporter": "python",
   "pygments_lexer": "ipython3",
   "version": "3.8.12"
  }
 },
 "nbformat": 4,
 "nbformat_minor": 5
}
