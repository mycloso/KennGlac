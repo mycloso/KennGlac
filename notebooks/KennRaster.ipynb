{
 "cells": [
  {
   "cell_type": "markdown",
   "id": "95b81544-deb0-4941-937a-eddc3cd4bfce",
   "metadata": {},
   "source": [
    "## KennRaster.ipynb, Kennicott Glacier loader, viewer, histogram builder\n",
    "### Mike Loso, Updated 12/4/2021\n",
    "\n",
    "This code imports a raster image (.tif file), plots it, creates a histogram of the raster in 10 m bins, then saves the histogram as a pickle.  \n"
   ]
  },
  {
   "cell_type": "code",
   "execution_count": null,
   "id": "6e6dfd9a",
   "metadata": {},
   "outputs": [],
   "source": [
    "## IMPORT PACKAGES\n",
    "\n",
    "import matplotlib.pyplot as plt\n",
    "import os, csv\n",
    "import pandas as pd\n",
    "import numpy as np\n",
    "import rioxarray as rxr\n",
    "import earthpy as et\n",
    "import earthpy.plot as ep\n",
    "import earthpy.spatial as es\n",
    "import rasterio as rio\n",
    "import rasterio.plot as rp\n",
    "\n",
    "%matplotlib inline"
   ]
  },
  {
   "cell_type": "code",
   "execution_count": null,
   "id": "7999768f",
   "metadata": {
    "tags": []
   },
   "outputs": [],
   "source": [
    "## LOAD THREE RASTERS\n",
    "\n",
    "# set working directory\n",
    "data_dir = r'~/MLo/KennGlac/data'\n",
    "\n",
    "# Define paths\n",
    "\n",
    "# Define relative path to file (this is the full glacier dem)\n",
    "dem_path_full = os.path.join(data_dir,\n",
    "                            '2013andRGI6_clip_IFSAR.tif')\n",
    "\n",
    "# Define relative path to file (this is the debris-only dem)\n",
    "dem_path_debris = os.path.join(data_dir,\n",
    "                            \"2013_debris_clip.tif\")\n",
    "    \n",
    "# Define relative path to file (this is the clean-ice dem)\n",
    "dem_path_clean = os.path.join(data_dir,\n",
    "                            \"2013_clean_clip.tif\")\n",
    "\n",
    "# Opening dems with rasterio, converting them into 2d arrays\n",
    "# masked=true removes no data values\n",
    "dtm_full=rxr.open_rasterio(dem_path_full, masked=True)\n",
    "\n",
    "dtm_debris=rxr.open_rasterio(dem_path_debris, masked=True)\n",
    "\n",
    "dtm_clean=rxr.open_rasterio(dem_path_clean, masked=True)\n",
    "\n",
    "# view dimensions (HxW) for the full DEM ONLY\n",
    "print('dtm shape: ',dtm_full.shape)\n",
    "print('dtm object type: ', type(dtm_full))\n",
    "\n",
    "# find minimum and maximum values in dem\n",
    "print('minimum value is ',dtm_full.min())\n",
    "print('maximum value is ',dtm_full.max())"
   ]
  },
  {
   "cell_type": "code",
   "execution_count": null,
   "id": "9f635754",
   "metadata": {
    "tags": []
   },
   "outputs": [],
   "source": [
    "# VIEW DEMS AS HILLSHADES (JUST THE FULL DEM IN THIS EXAMPLE)\n",
    "\n",
    "# Opening dems with rasterio, converting them into 2d arrays\n",
    "# masked=true removes no data values\n",
    "dtm_full_data=rio.open(dem_path_full, masked=True)\n",
    "dtm_full_rio=dtm_full_data.read(1)\n",
    "\n",
    "hillshade = es.hillshade(dtm_full_rio)\n",
    "ep.plot_bands(hillshade,\n",
    "              title='Kennicott Glacier from IFSAR \\nClipped by RGI 6.0 and manual editing',\n",
    "              cbar=False,\n",
    "              figsize = (20,20))\n",
    "              \n",
    "plt.show()"
   ]
  },
  {
   "cell_type": "code",
   "execution_count": null,
   "id": "2d080473",
   "metadata": {
    "tags": []
   },
   "outputs": [],
   "source": [
    "## SET UP HISTOGRAMS\n",
    "\n",
    "# Our four dems are 'dtm_full', 'dtm_clean', and 'dtm_debris'\n",
    "# create bins\n",
    "binsize=10\n",
    "binss=np.arange(400,4970,binsize)"
   ]
  },
  {
   "cell_type": "code",
   "execution_count": null,
   "id": "0881f062-40eb-48fe-96c9-dacb8ec24536",
   "metadata": {},
   "outputs": [],
   "source": [
    "## MAKE HISTOGRAM OF DTM_FULL\n",
    "\n",
    "# set figure parameters\n",
    "f,ax=plt.subplots(figsize=(20,10))\n",
    "\n",
    "# This does the job for 'dtm_full'\n",
    "dtm_full.plot.hist(ax=ax,\n",
    "              color='purple',\n",
    "             bins=binss)\n",
    "# get histogram data\n",
    "p=ax.patches\n",
    "# p[0].get_xy() gives xy coordinate of left edge of first bar (lower bin edge)\n",
    "# p[0].get_width() gives width of bar (bin size)\n",
    "# p[0].get_height() gives height of first bar (number pixels in bin)\n",
    "heights=[patch.get_height() for patch in p]\n",
    "binedgeL=[patch.get_xy() for patch in p]\n",
    "# get first element of two element tuples\n",
    "binedgeL=[x[0] for x in binedgeL]\n",
    "# convert lists to array\n",
    "binedgeL=np.array(binedgeL)\n",
    "# heights is array of number of pixels in each bin\n",
    "heights=np.array(heights)\n",
    "# binedgeL and binedgeR are arrays of bin edges at 10 m intervals\n",
    "binedgeR=binedgeL+binsize\n",
    "# bincenters is array of bin centers in m\n",
    "bincenters=np.mean([binedgeR,binedgeL],axis=0)\n",
    "\n",
    "# collate table with generic variables\n",
    "data={'binedgeR': binedgeR, 'binedgeL': binedgeL, 'bincenters':bincenters, 'heights': heights}\n",
    "# assign to pandas dataframe specific to full glacier\n",
    "fullbins=pd.DataFrame(data=data)\n",
    "\n",
    "plt.show()"
   ]
  },
  {
   "cell_type": "code",
   "execution_count": null,
   "id": "a5debeb4-79c4-41ec-8bb3-b06a1359d6f5",
   "metadata": {
    "tags": []
   },
   "outputs": [],
   "source": [
    "## MAKE HISTOGRAM OF DTM_DEBRIS\n",
    "\n",
    "# set figure parameters\n",
    "f,ax=plt.subplots(figsize=(20,10))\n",
    "\n",
    "# This does the job for 'dtm_debris'\n",
    "dtm_debris.plot.hist(ax=ax,\n",
    "              color='purple',\n",
    "             bins=binss)\n",
    "# get histogram data\n",
    "p=ax.patches\n",
    "# p[0].get_xy() gives xy coordinate of left edge of first bar (lower bin edge)\n",
    "# p[0].get_width() gives width of bar (bin size)\n",
    "# p[0].get_height() gives height of first bar (number pixels in bin)\n",
    "heights=[patch.get_height() for patch in p]\n",
    "binedgeL=[patch.get_xy() for patch in p]\n",
    "# get first element of two element tuples\n",
    "binedgeL=[x[0] for x in binedgeL]\n",
    "# convert lists to array\n",
    "binedgeL=np.array(binedgeL)\n",
    "# heights is array of number of pixels in each bin\n",
    "heights=np.array(heights)\n",
    "# binedgeL and binedgeR are arrays of bin edges at 10 m intervals\n",
    "binedgeR=binedgeL+binsize\n",
    "# bincenters is array of bin centers in m\n",
    "bincenters=np.mean([binedgeR,binedgeL],axis=0)\n",
    "\n",
    "# collate table with generic variables\n",
    "data={'binedgeR': binedgeR, 'binedgeL': binedgeL, 'bincenters':bincenters, 'heights': heights}\n",
    "# assign to pandas dataframe specific to dirty ice\n",
    "debrisbins=pd.DataFrame(data=data)\n",
    "\n",
    "plt.show()"
   ]
  },
  {
   "cell_type": "code",
   "execution_count": null,
   "id": "d6293e2b-fecf-4004-898d-a62d866b5cb9",
   "metadata": {
    "tags": []
   },
   "outputs": [],
   "source": [
    "## MAKE HISTOGRAM OF DTM_CLEAN\n",
    "\n",
    "# set figure parameters\n",
    "f,ax=plt.subplots(figsize=(20,10))\n",
    "\n",
    "# This does the job for 'dtm_clean'\n",
    "dtm_clean.plot.hist(ax=ax,\n",
    "              color='purple',\n",
    "             bins=binss)\n",
    "# get histogram data\n",
    "p=ax.patches\n",
    "# p[0].get_xy() gives xy coordinate of left edge of first bar (lower bin edge)\n",
    "# p[0].get_width() gives width of bar (bin size)\n",
    "# p[0].get_height() gives height of first bar (number pixels in bin)\n",
    "heights=[patch.get_height() for patch in p]\n",
    "binedgeL=[patch.get_xy() for patch in p]\n",
    "# get first element of two element tuples\n",
    "binedgeL=[x[0] for x in binedgeL]\n",
    "# convert lists to array\n",
    "binedgeL=np.array(binedgeL)\n",
    "# heights is array of number of pixels in each bin\n",
    "heights=np.array(heights)\n",
    "# binedgeL and binedgeR are arrays of bin edges at 10 m intervals\n",
    "binedgeR=binedgeL+binsize\n",
    "# bincenters is array of bin centers in m\n",
    "bincenters=np.mean([binedgeR,binedgeL],axis=0)\n",
    "\n",
    "# collate table with generic variables\n",
    "data={'binedgeR': binedgeR, 'binedgeL': binedgeL, 'bincenters':bincenters, 'heights': heights}\n",
    "# assign to pandas dataframe specific to clean ice\n",
    "cleanbins=pd.DataFrame(data=data)\n",
    "\n",
    "plt.show()"
   ]
  },
  {
   "cell_type": "code",
   "execution_count": null,
   "id": "24076fd1",
   "metadata": {
    "tags": []
   },
   "outputs": [],
   "source": [
    "## SAVE HISTOGRAM INFO AS PICKLE  \n",
    "\n",
    "# fullbins, debrisbins, and cleanbins are are panda dataframes\n",
    "# data are numbers of 5m x 5m pixels in each of 456 bins that separate pixels into 10m elevation bands. \n",
    "# So area in each elevation band is \"heights\" * 25 m.\n",
    "\n",
    "# Define relative path to file\n",
    "pickle_path = os.path.join(data_dir,\n",
    "                           'fullbins.pickle')\n",
    "# # save variable dataframes\n",
    "fullbins.to_pickle(pickle_path)\n",
    "\n",
    "# Define relative path to file\n",
    "pickle_path = os.path.join(data_dir,\n",
    "                           'cleanbins.pickle')\n",
    "# # save variable dataframes\n",
    "cleanbins.to_pickle(pickle_path)\n",
    "\n",
    "# Define relative path to file\n",
    "pickle_path = os.path.join(data_dir,\n",
    "                           'debrisbins.pickle')\n",
    "# # save variable dataframes\n",
    "debrisbins.to_pickle(pickle_path)\n"
   ]
  },
  {
   "cell_type": "code",
   "execution_count": null,
   "id": "f6be4b7f",
   "metadata": {},
   "outputs": [],
   "source": []
  }
 ],
 "metadata": {
  "kernelspec": {
   "display_name": "Python 3 (ipykernel)",
   "language": "python",
   "name": "python3"
  },
  "language_info": {
   "codemirror_mode": {
    "name": "ipython",
    "version": 3
   },
   "file_extension": ".py",
   "mimetype": "text/x-python",
   "name": "python",
   "nbconvert_exporter": "python",
   "pygments_lexer": "ipython3",
   "version": "3.8.12"
  }
 },
 "nbformat": 4,
 "nbformat_minor": 5
}
