{
 "cells": [
  {
   "cell_type": "markdown",
   "id": "b6a7d7ae-81ff-44a7-a046-6690bf3c2859",
   "metadata": {
    "tags": []
   },
   "source": [
    "## KennTempExploration.ipynb, Kennicott Glacier temperature exploration\n",
    "\n",
    "This code compares weather station from a bunch of sites, focused almost exclusively on the period of excellent temporal overlap between numerous sensors: melt season 2021. \n",
    "\n",
    "It starts by opening good corrected hourly data from Kennicott Glacier hobos (6/11/2021 17:00 to 9/8/2021 12:00) as a pickle file (homogenized_hobos.pickle) which contains a pandas table, homogenized, with fields Gates3600_degC (corrected), Kenn6100_degC (corrected), GatesAWS_degC (uncorrected), and ChineseAWS_degC (corrected). It also has GatesNPS_degC, which is direct values from the long-term NPS sensor.\n",
    "\n",
    "I start by comparing on-glacier to off-glacier temperatures in a variety of ways, finally concluding that the best way to get on-glacier temperatures at Gates and Kenn6100 is to model them both from the long-term dataset at Gates AWS (nunatak). So I come up with a regression that predicts melt-season temps at Gates3600, and that becomes the base for a lapse-rate calculation for other sites on the glacier. \n",
    "\n",
    "Lapse rates are explored in various ways, mostly using Gates3600 but also trying the temp record at the bridge on Kennicott River. I end up concluding that on-glacier (clean ice) temps are best modeled with a lapse rate of -3.72 and on debris-covered ice I use -4.86. There could be an argument for using the Kennicott River temps to model lower glacier temps (they are well-correlated), but the lapse rate is silly, making that hard to justify. More work could be done on this. In any case I end with a solid way to predict temperatures anywhere on the glacier using the temperature record at Gates AWS nunatak. \n",
    "\n",
    "For the purposes of lapse rate calculations in this workbook, elevations are: Gates AWS = 1237.5, Gates3600 = 1070, ChineseAWS = 2185, Kenn6100 = 1830, KennRiver=409\n"
   ]
  },
  {
   "cell_type": "code",
   "execution_count": null,
   "id": "251bc511-dc31-4e84-b889-2fcd20a8aecc",
   "metadata": {
    "tags": []
   },
   "outputs": [],
   "source": [
    "## IMPORT PACKAGES\n",
    "\n",
    "# standard\n",
    "import numpy as np\n",
    "import pandas as pd\n",
    "import matplotlib.pyplot as plt\n",
    "import datetime\n",
    "import os, csv\n",
    "%matplotlib widget\n",
    "\n",
    "# specialized\n",
    "from sklearn import linear_model\n",
    "from sklearn.metrics import mean_squared_error, r2_score\n",
    "from scipy import stats\n",
    "# statsmodels is a nice tool for regressions\n",
    "import statsmodels.formula.api as smf\n",
    "from mpl_toolkits.mplot3d import Axes3D\n",
    "\n",
    "\n",
    "# set default figure size\n",
    "figsize=(10,6)"
   ]
  },
  {
   "cell_type": "code",
   "execution_count": null,
   "id": "71fa1c63-5036-4459-8f74-8d5c2db4c02e",
   "metadata": {
    "tags": []
   },
   "outputs": [],
   "source": [
    "## OPEN CORRECTED HOBO DATA RECORD (these are good Hobo data from June 11-September 8, 2021)\n",
    "\n",
    "# set working directory\n",
    "data_dir = r'~/MLo/KennGlac/data'\n",
    "homogenized = pd.read_pickle(os.path.join(data_dir, 'homogenized_hobos.pickle'))\n",
    "\n",
    "# view first 2 lines to verify index increment and column headers\n",
    "print(homogenized.head(2))                             \n",
    "\n",
    "# set fig size\n",
    "plt.rcParams[\"figure.figsize\"] = figsize\n",
    "# Plot data\n",
    "homogenized.plot();"
   ]
  },
  {
   "cell_type": "code",
   "execution_count": null,
   "id": "a49edf74-de25-4f72-9ced-5a00f2599a8b",
   "metadata": {
    "tags": []
   },
   "outputs": [],
   "source": [
    "## COMPARE OVERALL TEMP DIFFERENCES AT ON-GLACIER AND OFF-GLACIER SITES\n",
    "\n",
    "# create column of hourly differences ('difflower'), then get mean of them and remove diff\n",
    "homogenized['difflower'] = homogenized['GatesAWS_degC'] - homogenized['Gates3600_degC']\n",
    "# meandifflower = difference between GatesAWS and Gates3600 in summer 2021\n",
    "meandifflower=homogenized['difflower'].mean()\n",
    "print (\"Mean of differences between Gates AWS and Gates 3600 = \",meandifflower)\n",
    "\n",
    "# create column of hourly differences ('diffupper'), then get mean of them and remove diff\n",
    "homogenized['diffupper'] = homogenized['ChineseAWS_degC'] - homogenized['Kenn6100_degC']\n",
    "# meandiffupper = difference between ChineseAWS and Kenn6100 in summer 2021\n",
    "meandiffupper=homogenized['diffupper'].mean()\n",
    "print (\"Mean of differences between Chinese AWS and Kenn 6100 = \",meandiffupper)\n",
    "\n",
    "# remove unneeded columns\n",
    "del homogenized['difflower']\n",
    "del homogenized['diffupper']"
   ]
  },
  {
   "cell_type": "code",
   "execution_count": null,
   "id": "d2b7ea25-2209-47e7-b50c-7d291453182d",
   "metadata": {
    "tags": []
   },
   "outputs": [],
   "source": [
    "# COMPARE OFF-GLACIER TEMPS TO ON-GLACIER TEMPS AT UPPER AND LOWER COMPARISON SITES\n",
    "\n",
    "# temp differences subplots for the two sites, plus underneath them the temp records for the on-glacier sites\n",
    "fig,((ax1, ax2),(ax3,ax4)) = plt.subplots(2,2,figsize=(20,10))\n",
    "# upper site\n",
    "ax1.plot(homogenized.ChineseAWS_degC-homogenized.Kenn6100_degC)\n",
    "ax1.set_ylabel('Chinese AWS - Kenn 6100 (C)',fontsize=14)\n",
    "# temp record at glacier\n",
    "ax3.plot(homogenized.Kenn6100_degC,color='darkorchid')\n",
    "ax3.set_ylabel('Upper site off-glacier (ChineseAWS) temps (C)')\n",
    "# lower\n",
    "ax2.plot(homogenized.GatesAWS_degC-homogenized.Gates3600_degC)\n",
    "ax2.set_ylabel('Gates AWS - Gates 3600 (C)',fontsize=14)\n",
    "ax4.plot(homogenized.Gates3600_degC,color='darkorchid')\n",
    "ax4.set_ylabel('Lower site off-glacier (GatesAWS) temps (C)')\n",
    "\n",
    "plt.show()"
   ]
  },
  {
   "cell_type": "code",
   "execution_count": null,
   "id": "3478cadc-0107-4ffe-83dd-01a3119bbe14",
   "metadata": {
    "tags": []
   },
   "outputs": [],
   "source": [
    "## PLOT ON-VS-OFF GLACIER TEMPERATURE DIFFERENCES AS FUNCTION OF OFF-GLACIER SITE TEMPERATURE\n",
    "\n",
    "# create subplots\n",
    "fig,[ax1,ax2] = plt.subplots(1,2,figsize=(10,6))\n",
    "# upper site\n",
    "ax1.scatter(homogenized.ChineseAWS_degC,homogenized.ChineseAWS_degC-homogenized.Kenn6100_degC,color='steelblue',s=5)\n",
    "ax1.set_title('Mid glacier')\n",
    "ax1.set_ylabel('Off glacier - on ice temp (diff degC)')\n",
    "ax1.set_xlabel('CAS off-glacier temp (C)')\n",
    "# lower site\n",
    "ax2.scatter(homogenized.GatesAWS_degC,homogenized.GatesAWS_degC-homogenized.Gates3600_degC,color='steelblue',s=5)\n",
    "ax2.set_title('Upper glacier')\n",
    "ax2.set_ylabel('Off glacier - on ice temp (diff degC)')\n",
    "ax2.set_xlabel('NPS off-glacier temp (C)')\n",
    "fig.tight_layout()\n",
    "plt.show()"
   ]
  },
  {
   "cell_type": "markdown",
   "id": "63afc41e-3fc0-4b30-980b-d9dc760eb728",
   "metadata": {
    "tags": []
   },
   "source": [
    "#### Summary\n",
    "Looks like at both sites, the off-glacier station is significantly warmer on warm days, but similar or colder on cold days. That relationship appears pretty solid at the lower site, but more ambiguous and noisy at the upper site. \n",
    "\n",
    "And in general, the differences are greater at the lower site, possibly because the off-glacier site there is frequently snow-free and vegetated, while at the upper site, it is typically snow-covered and/or rocky.\n",
    "\n",
    "In general, Gates AWS is 2.02 deg warmer than Gates 3600. Chinese AWS is actually, overall, a bit colder than Kenn 6100 (0.49 colder)!"
   ]
  },
  {
   "cell_type": "code",
   "execution_count": null,
   "id": "6867a667-b1dd-44e9-8031-b3104e16e5f6",
   "metadata": {
    "tags": []
   },
   "outputs": [],
   "source": [
    "## SEE WHICH OFF-GLACIER SITE HAS A TIGHTER RELATIONSHIP TO ON-GLACIER TEMPS\n",
    "\n",
    "# set up subplots\n",
    "fig,[ax1,ax2] = plt.subplots(1,2,figsize=(12,6))\n",
    "\n",
    "# using Chinese AWS as the x-axis\n",
    "ax1.scatter(homogenized.ChineseAWS_degC,homogenized.GatesAWS_degC-homogenized.Kenn6100_degC,color='steelblue',s=5)\n",
    "ax1.set_title('Chinese AWS vs Gates AWS-Kenn6100',fontsize=18)\n",
    "ax1.set_ylabel('Temp difference (C)',fontsize=14)\n",
    "ax1.set_xlabel('Chinese AWS temp (C)',fontsize=14)\n",
    "\n",
    "# using Gates AWS as the x-axis\n",
    "ax2.scatter(homogenized.GatesAWS_degC,homogenized.GatesAWS_degC-homogenized.Kenn6100_degC,color='steelblue',s=5)\n",
    "ax2.set_title('Gates AWS vs GatesAWS-Kenn6100',fontsize=18)\n",
    "ax2.set_ylabel('Temp difference (C)',fontsize=14)\n",
    "ax2.set_xlabel('Gates AWS temp (C)',fontsize=14)\n",
    "fig.tight_layout()\n",
    "plt.show()"
   ]
  },
  {
   "cell_type": "code",
   "execution_count": null,
   "id": "b51b81e2-0c60-487b-b557-c4edfea9e78c",
   "metadata": {
    "tags": []
   },
   "outputs": [],
   "source": [
    "# LINEAR REGRESSION OF THE TWO GLACIER SITES AGAINST EITHER OFF-GLACIER SITE\n",
    "# note this uses a cumbersome form of regression. see better example below\n",
    "\n",
    "# plot up\n",
    "fig,axs = plt.subplots(2,2,figsize=(8,8))\n",
    "\n",
    "# regression 1 (Gates 3600 as fn of Gates AWS)\n",
    "x1,y1 = homogenized.GatesAWS_degC,homogenized.Gates3600_degC\n",
    "slope1, intercept1, r_value, p_value, std_err = stats.linregress(x1,y1)\n",
    "r2_1 = r_value**2\n",
    "xo_1 = np.linspace(x1.min(),x1.max())\n",
    "Yhat_1 = (slope1*xo_1) + intercept1 # regression y coords\n",
    "axs[0,0].plot(xo_1,Yhat_1,'-',linewidth=4,color='k')\n",
    "# annotate with r2 and regression equation\n",
    "axs[0,0].annotate('$r^2$ = {:.2f}'.format(r2_1),(1,14),fontsize=12)\n",
    "axs[0,0].annotate('y = {0:.2f}(x1) - {1:.2f}'.format(slope1,-intercept1),(1,15),fontsize=12)\n",
    "# labels\n",
    "axs[0,0].set_title('Gates 3600 as function of Gates AWS')\n",
    "axs[0,0].set_ylabel('Glacier site temp (C)',fontsize=14)\n",
    "axs[0,0].set_xlabel('Gates AWS temp (C)',fontsize=14)\n",
    "\n",
    "# regression 2 (Kenn 6100 as fn of Gates AWS)\n",
    "x2,y2 = homogenized.GatesAWS_degC,homogenized.Kenn6100_degC\n",
    "slope2, intercept2, r_value, p_value, std_err = stats.linregress(x2,y2)\n",
    "r2_2 = r_value**2\n",
    "xo_2 = np.linspace(x2.min(),x2.max())\n",
    "Yhat_2 = (slope2*xo_2) + intercept2 # regression y coords\n",
    "axs[0,1].plot(xo_2,Yhat_2,'-',linewidth=4,color='k')\n",
    "# annotate with r2 and regression equation\n",
    "axs[0,1].annotate('$r^2$ = {:.2f}'.format(r2_2),(1,11),fontsize=12)\n",
    "axs[0,1].annotate('y = {0:.2f}(x2) - {1:.2f}'.format(slope2,-intercept2),(1,12),fontsize=12)\n",
    "# labels\n",
    "axs[0,1].set_title('Kenn 6100 as function of Gates AWS')\n",
    "axs[0,1].set_ylabel('Glacier site temp (C)',fontsize=14)\n",
    "axs[0,1].set_xlabel('Gates AWS temp (C)',fontsize=14)\n",
    "\n",
    "# regression 3 (Kenn 6100 as fn of Chinese AWS)\n",
    "x3,y3 = homogenized.ChineseAWS_degC,homogenized.Kenn6100_degC\n",
    "slope3, intercept3, r_value, p_value, std_err = stats.linregress(x3,y3)\n",
    "r2_3 = r_value**2\n",
    "xo_3 = np.linspace(x3.min(),x3.max())\n",
    "Yhat_3 = (slope3*xo_3) + intercept3 # regression y coords\n",
    "axs[1,0].plot(xo_3,Yhat_3,'-',linewidth=4,color='k')\n",
    "# annotate with r2 and regression equation\n",
    "axs[1,0].annotate('$r^2$ = {:.2f}'.format(r2_3),(1,11),fontsize=12)\n",
    "axs[1,0].annotate('y = {0:.2f}(x3) - {1:.2f}'.format(slope3,-intercept3),(1,12),fontsize=12)\n",
    "# labels\n",
    "axs[1,0].set_title('Kenn 6100 as function of Chinese AWS')\n",
    "axs[1,0].set_ylabel('Glacier site temp (C)',fontsize=14)\n",
    "axs[1,0].set_xlabel('Chinese AWS temp (C)',fontsize=14)\n",
    "\n",
    "# regression 4 (Gates 3600 as fn of Chinese AWS)\n",
    "x4,y4 = homogenized.ChineseAWS_degC,homogenized.Gates3600_degC\n",
    "slope4, intercept4, r_value, p_value, std_err = stats.linregress(x4,y4)\n",
    "r2_4 = r_value**2\n",
    "xo_4 = np.linspace(x4.min(),x4.max())\n",
    "Yhat_4 = (slope1*xo_4) + intercept4 # regression y coords\n",
    "axs[1,1].plot(xo_4,Yhat_4,'-',linewidth=4,color='k')\n",
    "# annotate with r2 and regression equation\n",
    "axs[1,1].annotate('$r^2$ = {:.2f}'.format(r2_4),(1,14),fontsize=12)\n",
    "axs[1,1].annotate('y = {0:.2f}(x4) - {1:.2f}'.format(slope4,-intercept4),(1,15),fontsize=12)\n",
    "# labels\n",
    "axs[1,1].set_title('Gates 3600 as function of Chinese AWS')\n",
    "axs[1,1].set_ylabel('Glacier site temp (C)',fontsize=14)\n",
    "axs[1,1].set_xlabel('Chinese AWS temp (C)',fontsize=14)\n",
    "\n",
    "\n",
    "axs[0,0].scatter(x1,y1,color='darkorchid',s=20)\n",
    "axs[0,1].scatter(x2,y2,color='darkorchid',s=20)\n",
    "axs[1,0].scatter(x3,y3,color='darkorchid',s=20)\n",
    "axs[1,1].scatter(x4,y4,color='darkorchid',s=20)\n",
    "\n",
    "fig.tight_layout()\n",
    "plt.show()"
   ]
  },
  {
   "cell_type": "markdown",
   "id": "3f7d30e7-3160-48ac-847c-676810b7dba1",
   "metadata": {
    "tags": []
   },
   "source": [
    "### Summary \n",
    "Using just a simple regression, it looks like I can predict on-glacier temps at Gates 3600 way better from Gates AWS than from Chinese AWS, and I can predict them a little better at Kenn 6100 using Gates AWS. Seems to justify using Gates AWS as the main tool. But before doing do, let's see if it works as well to predict Gates 3600 from Gates AWS, and then use a simple lapse rate to get temps at Kenn 6100."
   ]
  },
  {
   "cell_type": "code",
   "execution_count": null,
   "id": "1aae63e4-3464-44d4-bcb7-790636e33648",
   "metadata": {
    "tags": []
   },
   "outputs": [],
   "source": [
    "## A MUCH SIMPLER WAY TO DO A SIMPLE LINEAR REGRESSION\n",
    "\n",
    "# Gates 3600 as a function of Gates AWS\n",
    "regr=smf.ols(formula='Gates3600_degC ~ GatesAWS_degC', data=homogenized).fit()\n",
    "\n",
    "print(regr.params)\n",
    "print(regr.summary())"
   ]
  },
  {
   "cell_type": "code",
   "execution_count": null,
   "id": "b303b6d5-20e4-4fdf-a17b-251e972488ea",
   "metadata": {
    "tags": []
   },
   "outputs": [],
   "source": [
    "## INFER KENN6100 TEMPS FROM REGRESSED GATES3600 TEMPS, USING JUST A LAPSE RATE\n",
    "\n",
    "# fyi, Tristan inferred a glacier-wide lapse rate of -4.06 degC / km\n",
    "# Elevs: Gates AWS = 1237.5, Gates3600 = 1070, ChineseAWS = 2185, Kenn6100 = 1830\n",
    "\n",
    "lr=-4.06\n",
    "\n",
    "## PREDICT GATES3600 TEMPS FROM REGRESSION OFF GATES AWS THEN USE TRISTAN'S LAPSE RATE TO CALCULATE KENN6100 VALUES\n",
    "homogenized['Kenn6100recon'] = 1.775760+homogenized.GatesAWS_degC*0.571476 + lr*(1830-1070)*.001\n",
    "# Kenn6100recon is temps at 6100 inferred from regression/lapse rate at GatesAWS\n",
    "\n",
    "homogenized.head(2)\n",
    "\n",
    "## FOR COMPARISON, REGRESS KENN6100 against CHINESE AWS\n",
    "regr1=smf.ols(formula='Kenn6100_degC ~ ChineseAWS_degC', data=homogenized).fit()\n",
    "print(regr1.params)\n",
    "print(regr1.summary())\n",
    "\n",
    "## PREDICT KENN6100 TEMPS DIRECTLY FROM CHINESE AWS\n",
    "homogenized['Kenn6100reconFROMchinese']=homogenized.ChineseAWS_degC*regr1.params.ChineseAWS_degC + regr1.params.Intercept\n",
    "\n",
    "print(homogenized.head(2))"
   ]
  },
  {
   "cell_type": "code",
   "execution_count": null,
   "id": "6e8fad08-9d43-4993-8258-eaabcaa23a2d",
   "metadata": {
    "tags": []
   },
   "outputs": [],
   "source": [
    "## COMPARE ACTUAL KENN 6100 TEMPS TO THOSE RECONSTRUCTED FROM GATES (REGRESS+LAPSE RATE) AND FROM CHINESE AWS REGRESS\n",
    "\n",
    "# set up subplots\n",
    "fig, (ax1,ax2) = plt.subplots(1,2,figsize=(15,8))\n",
    "\n",
    "# From GatesAWS using measured kenn6100 as the x-axis\n",
    "ax1.scatter(homogenized.Kenn6100_degC,homogenized.Kenn6100recon,color='steelblue',s=5)\n",
    "ax1.set_title('Kenn6100 vs temps reconstructed from GatesAWS',fontsize=18)\n",
    "ax1.set_ylabel('Kenn6100 reconstructed from GatesAWS (C)',fontsize=14)\n",
    "ax1.set_xlabel('Kenn6100 actual (C)',fontsize=14)\n",
    "\n",
    "# calculate and annotate correlation coefficient\n",
    "corr1 = np.corrcoef(homogenized.Kenn6100_degC,homogenized.Kenn6100recon)\n",
    "ax1.annotate('correlation coefficient = {:.2f}'.format(corr1[0,1]),(-2,10),fontsize=12)\n",
    "\n",
    "\n",
    "# From Chinese AWS using measured kenn6100 as the x-axis\n",
    "ax2.scatter(homogenized.Kenn6100_degC,homogenized.Kenn6100reconFROMchinese,color='steelblue',s=5)\n",
    "ax2.set_title('Kenn6100 vs temps reconstructed from Chinese AWS',fontsize=18)\n",
    "ax2.set_ylabel('Kenn6100 reconstructed from Chinese AWS (C)',fontsize=14)\n",
    "ax2.set_xlabel('Kenn6100 actual (C)',fontsize=14)\n",
    "\n",
    "# calculate and annotate correlation coefficient\n",
    "corr2 = np.corrcoef(homogenized.Kenn6100_degC,homogenized.Kenn6100reconFROMchinese)\n",
    "ax2.annotate('correlation coefficient = {:.2f}'.format(corr2[0,1]),(-2,10),fontsize=12)\n",
    "\n",
    "plt.show()"
   ]
  },
  {
   "cell_type": "markdown",
   "id": "2a5717f1-9ddb-4835-a73b-e580331e9210",
   "metadata": {},
   "source": [
    "### Summary\n",
    "\n",
    "There is a good relationship between temps at Gates AWS (off-glacier) and Gates 3600 (on-glacier). There is a similar, but messier, relationship between temps at Chinese AWS (off-glacier) and Kenn 6100 (on-glacier). In both cases, temperatures on the glacier are significantly cooler than their off-glacier counterparts when it is warm out, but as temperatures at the off-glacier site get cooler and approach zero, the difference diminishes and then eventually reverses, to where the off-glacier site (which in both cases is at a higher elevation) becomes cooler than the on-glacier site. This relationship can't be trusted below zero C, because we don't have good data for that time period, but we don't really care because we are only interested in positive degree days, which we can calculate pretty well from the warmer days at Gates. \n",
    "\n",
    "Overall, Gates 3600 is on AVERAGE 2.0 degrees cooler than Gates AWS. But that said, we can model the relationship better as Gates 3600 = 0.57 x Gates AWS +1.78. This has an r2 of 0.88.\n",
    "\n",
    "So to predict temps at Kenn 6100 (which we know for this past summer), I tried two approaches. 1) Calculate on-ice temp at Gates 3600 from the relationship above, then use the lapse rate of -4.06 degC/km (from Tristan's work) to calculate the temp there. Or 2) Calculate on-ice temp at Kenn 6100 directly from Chinese AWS. That's what I've done above, and the prediction using Gates AWS is nearly as good (correlation coefficient = 0.86, vs r2=0.88 when basing off Kenn 6100). So I think that's the way to go, given that Gates AWS is a long-term consistent record and Chinese AWS is not. \n",
    "\n",
    "Next step is to re-calculate lapse rates that reflect on-ice temperatures (instead of blindly relying on Tristan's lr)"
   ]
  },
  {
   "cell_type": "code",
   "execution_count": null,
   "id": "0d007422-db70-4687-972e-1bbaf2a69ffc",
   "metadata": {
    "tags": []
   },
   "outputs": [],
   "source": [
    "# CALCULATE BEST ON-ICE LAPSE RATE BASED ON GATES 3600 AND KENN 6100 DATA\n",
    "\n",
    "# lapse rate from Tristan = -4.06 degC / km  (this variable is 'lr'\n",
    "# Elevs: Gates AWS = 1237.5, Gates3600 = 1070, ChineseAWS = 2185, Kenn6100 = 1830\n",
    "\n",
    "homogenized['diff2'] = homogenized['Kenn6100_degC'] - homogenized['Gates3600_degC']\n",
    "print (\"Mean of differences between Kenn6100 and Gates3600 = \",homogenized['diff2'].mean())\n",
    "\n",
    "# calculate on-ice lapse rate ('lr2')\n",
    "lr2=homogenized['diff2'].mean() / (1830-1070) * 1000\n",
    "print(lr2)"
   ]
  },
  {
   "cell_type": "markdown",
   "id": "98ee82d3-ead5-4136-82f1-f5dcc389e5b3",
   "metadata": {},
   "source": [
    "## Summary: lapse rates\n",
    "Actual measured lapse rate from Gates 3600-Kenn 6100: -3.72\n",
    "Tristan's estimated glacier-wide (summer) lapse rate: -4.06\n",
    "\n",
    "I like it! So for upper glacier we have a measured lapse rate of -3.72. Now let's look down glacier to see how the relationship holds up down there. Tricky because we have no on-ice measurements down there. One strategy would be to use -4.06, or -3.72, everywhere, using the regression of GatesAWS to Gates3600 to create our 'base temperature'. \n",
    "\n",
    "But let's compare on-glacier temps at Gates 3600 to temps at the river (off-glacier, but a cold spot)"
   ]
  },
  {
   "cell_type": "code",
   "execution_count": null,
   "id": "c55448cb-eb1e-48be-8a18-e40b48b27633",
   "metadata": {
    "tags": []
   },
   "outputs": [],
   "source": [
    "## LOAD KENN RIVER AIR TEMP DATA (AIR TEMP DEG C)\n",
    "\n",
    "# set working directory\n",
    "data_dir = r'~/MLo/KennGlac/data'\n",
    "# Load an excel workbook that is in the local directory\n",
    "xlsx=pd.ExcelFile(os.path.join(data_dir,'KENNRIVER 15min airtemp 2016_05_26 to 2021_11_11.xlsx'))\n",
    "# Load the first worksheet ('kr' = kennicott river, treat -9999 as nan|, make first column (dates) the index, header is on row 15, use only columns 2 and 3 (everything starts with 0)\n",
    "kr=pd.read_excel(xlsx,na_values=['False'],index_col=0,header=14,usecols=(1,2))"
   ]
  },
  {
   "cell_type": "code",
   "execution_count": null,
   "id": "6dc6ed8b-9d27-4dee-80f6-3452c0559092",
   "metadata": {
    "tags": []
   },
   "outputs": [],
   "source": [
    "## VIEW KENN RIVER AIR TEMP DATA\n",
    "\n",
    "# Print summary of worksheet\n",
    "print(kr.head(2))\n",
    "\n",
    "# Print datatypes (dtypes) of DataFrame (wb)\n",
    "print(kr.dtypes)\n",
    "\n",
    "# Summarize size of worksheet\n",
    "print(kr.shape)\n",
    "\n",
    "# Plot data, set fig size\n",
    "plt.rcParams[\"figure.figsize\"] = figsize\n",
    "kr.plot()"
   ]
  },
  {
   "cell_type": "code",
   "execution_count": null,
   "id": "b3b7964a-c6cb-473b-b15b-f7df5579d7aa",
   "metadata": {
    "tags": []
   },
   "outputs": [],
   "source": [
    "# CONVERT 15 MINUTE VALUES TO HOURLY, SLICE TO DESIRED TIME FRAME, AND VIEW\n",
    "\n",
    "# these are 15 minute values. Convert to hourly (by selecting only the hourly values)\n",
    "kr_hr=kr.resample('60min').first()\n",
    "\n",
    "# rename column\n",
    "kr_hr.rename(columns = {'Value':'KennRiver_degC'},inplace=True)\n",
    "\n",
    "# Summarize size of worksheet\n",
    "print(kr_hr.shape)\n",
    "\n",
    "print(kr_hr.dtypes)\n",
    "\n",
    "# get slice of Kenn River data that matches hobo data\n",
    "kr21=kr_hr[datetime.datetime(2021,6,11,17,0,0):datetime.datetime(2021,9,8,12,0,0)]\n",
    "\n",
    "# check for null values. There seem to be 33 in the time series from 2021\n",
    "# find null values\n",
    "np.where(pd.isnull(kr21))\n",
    "# show null values\n",
    "# print(kr21.iloc[964:996,:])\n",
    "\n",
    "# Plot data (kr21, the hourly Kennicott River air temp data for 2021), set fig size\n",
    "plt.rcParams[\"figure.figsize\"] = (20,10)\n",
    "kr21.plot()\n",
    "plt.show()"
   ]
  },
  {
   "cell_type": "code",
   "execution_count": null,
   "id": "401468ab-48e0-46ba-b27b-aa1184d5357a",
   "metadata": {
    "tags": []
   },
   "outputs": [],
   "source": [
    "## CLEAN UP OUR DATAFRAME\n",
    "\n",
    "# clean up homogenized\n",
    "del homogenized['diff2']\n",
    "del homogenized['Kenn6100recon']\n",
    "del homogenized['Kenn6100reconFROMchinese']\n",
    "\n",
    "print(homogenized.head())"
   ]
  },
  {
   "cell_type": "code",
   "execution_count": null,
   "id": "c38d3ef5-ef61-437d-9575-607b7defb27b",
   "metadata": {
    "tags": []
   },
   "outputs": [],
   "source": [
    "## NOW COMPARE kr21 TO THE DATA AT GATES 3600\n",
    "\n",
    "fig=plt.subplots()\n",
    "\n",
    "# calculate Gates 3600 as function of Gates RAWS\n",
    "homogenized['Gates3600recon'] = 1.7758+homogenized['GatesAWS_degC']*0.5715\n",
    "\n",
    "# use on-ice lapse rate (-3.72) to predict kenn river temps (Kenn River at 409 m)\n",
    "homogenized['kr_recon']=homogenized['Gates3600recon'] + (409-1070)*.001*-3.72 \n",
    "\n",
    "fig=plt.plot(kr21,color=\"red\")\n",
    "fig=plt.plot(homogenized.Gates3600recon,color=\"green\")\n",
    "\n",
    "\n",
    "## It doesn't look very good. The reconstruction is too cold and has too limited of a temperature range. \n",
    "# What if we reconstruct kr (which is off-glacier) from the off-glacier correlate (Gates AWS) directly?\n",
    "\n",
    "homogenized['kr_recon_fromRAWS'] = homogenized.GatesNPS_degC + (409-1237.5)*.001*-4.06 \n",
    "\n",
    "# and plot that\n",
    "\n",
    "fig=plt.plot(homogenized.kr_recon_fromRAWS,color='black')\n",
    "\n",
    "plt.legend(['Kennicott River temps','Predicted from Gates 3600','Predicted from Gates AWS'])\n",
    "\n",
    "plt.show()"
   ]
  },
  {
   "cell_type": "code",
   "execution_count": null,
   "id": "24480752-9efb-4c9c-bfe9-2bd2f39329ad",
   "metadata": {
    "tags": []
   },
   "outputs": [],
   "source": [
    "## REPEAT ABOVE ANALYSIS (COMPARE KR21 TO GATES 3600) BUT USING DAILY VALUES\n",
    "\n",
    "fig=plt.subplots()\n",
    "\n",
    "# resample whole homogenized table as daily values\n",
    "daily=homogenized.resample('D').mean()\n",
    "# resample kr21 as daily\n",
    "dailykr21=kr21.resample('D').mean()\n",
    "\n",
    "fig=plt.plot(dailykr21,color=\"red\")\n",
    "fig=plt.plot(daily.Gates3600recon,color=\"green\")\n",
    "fig=plt.plot(daily.kr_recon_fromRAWS,color='black')\n",
    "\n",
    "plt.legend(['Kennicott River temps','Predicted from Gates 3600','Predicted from Gates AWS'])\n",
    "\n",
    "plt.show()"
   ]
  },
  {
   "cell_type": "markdown",
   "id": "dc9b1fe8-8e27-453e-9c04-855b37ead862",
   "metadata": {
    "tags": []
   },
   "source": [
    "### Summary\n",
    "If we wanted to predict kennicott river temps from our data, we would do a simple lapse rate calculation using the Gates AWS stuff. That's pretty clear from the daily values above. But we don't really want that, do we? What we really want is the temps on the lower glacier. Those MAY be well predicted from Gates AWS, but we have another possibility--that they are well-predicted from the Kenn River sensor. Then we would just have to decide where to divide lower glaciers temps (reconstructed from Kenn River) from upper glacier temps (reconstructed from Gates AWS). Let's play around with all that."
   ]
  },
  {
   "cell_type": "code",
   "execution_count": null,
   "id": "7a6743a6-2acb-423e-b72d-30980f364d0c",
   "metadata": {
    "tags": []
   },
   "outputs": [],
   "source": [
    "## LOAD UP ON-GLACIER TEMP DATA FROM ERIC\n",
    "\n",
    "# set working directory\n",
    "data_dir = r'~/MLo/KennGlac/data/Raw_Climate_Records/current 2021/PETERSEN'\n",
    "# Load an excel workbook that is in the local directory\n",
    "csv=os.path.join(data_dir,'AWS_debris_2021_60min.csv')\n",
    "# Load the first worksheet as 'esp', treat -9999 as nan|, make first column (dates) the index\n",
    "esp=pd.read_csv(csv,na_values=[-9999],header=0,index_col=0,parse_dates=['TIMESTAMP'],usecols=['TIMESTAMP','T_air'])\n",
    "\n",
    "# Slice to desired times\n",
    "\n",
    "# get slice of Kenn River data that matches hobo data\n",
    "esp=esp[datetime.datetime(2021,6,11,17,0,0):datetime.datetime(2021,9,8,12,0,0)]\n",
    "\n",
    "# check for null values. There seem to be 33 in the time series from 2021\n",
    "# find null values\n",
    "np.where(pd.isnull(esp))\n",
    "# show null values\n",
    "# print(kr21.iloc[964:996,:])\n",
    "\n",
    "# Plot data (esp, the hourly Eric Simon Petersen air temp data for 2021), set fig size\n",
    "plt.rcParams[\"figure.figsize\"] = (12,8)\n",
    "esp.plot()\n",
    "plt.show()\n",
    "\n",
    "# print(esp.head())"
   ]
  },
  {
   "cell_type": "code",
   "execution_count": null,
   "id": "172d0ade-ca64-45b7-a354-0422f4166059",
   "metadata": {
    "tags": []
   },
   "outputs": [],
   "source": [
    "## NOW COMPARE ESB TO THE DATA AT GATES 3600 AND TO KENN RIVER\n",
    "# Eric's met station was at 546 m\n",
    "\n",
    "fig=plt.subplots()\n",
    "\n",
    "# use on-ice lapse rate (-3.72) to predict esp temps from Gates 3600\n",
    "homogenized['esp_recon_Gates3600recon']=homogenized['Gates3600recon'] + (546-1070)*.001*-4.06 # 3.72 might make more sense for clean ice? too cold for on the debris\n",
    "\n",
    "# use off-ice lapse rate (-4.06) to predict esp temps from Kenn River temps\n",
    "homogenized['esp_recon_KennRiverrecon']=kr21 + (546-409)*.001*-4.06 \n",
    "\n",
    "# use off-ice lapse rate (-4.06) to predict esp temps from Gates AWS temps\n",
    "homogenized['esp_recon_GatesAWSrecon']=homogenized['GatesNPS_degC'] + (546-1237.5)*.001*-4.06 \n",
    "\n",
    "# plot them all\n",
    "fig=plt.plot(esp,color=\"red\")\n",
    "fig=plt.plot(homogenized.esp_recon_Gates3600recon,color=\"green\")\n",
    "fig=plt.plot(homogenized.esp_recon_KennRiverrecon,color='blue')\n",
    "fig=plt.plot(homogenized.esp_recon_GatesAWSrecon,color='black')\n",
    "\n",
    "\n",
    "plt.legend(['ESP debris temps','Predicted from Gates 3600','Predicted from Kenn River','Predicted from Gates AWS'])\n",
    "plt.rcParams[\"figure.figsize\"] = (12,6)\n",
    "plt.show()"
   ]
  },
  {
   "cell_type": "code",
   "execution_count": null,
   "id": "e2ff7089-f002-4c0c-b05e-25505ecf37e9",
   "metadata": {
    "tags": []
   },
   "outputs": [],
   "source": [
    "## REPEAT ABOVE ANALYSIS (COMPARE ESP TO VARIOUS RECONSTRUCTIONS) BUT USING DAILY VALUES\n",
    "\n",
    "fig=plt.subplots()\n",
    "\n",
    "# resample whole homogenized table as daily values\n",
    "daily=homogenized.resample('D').mean()\n",
    "# resample esp as daily\n",
    "daily['esp']=esp.resample('D').mean()\n",
    "\n",
    "# plot them all\n",
    "fig=plt.plot(daily.esp,color=\"red\")\n",
    "fig=plt.plot(daily.esp_recon_Gates3600recon,color=\"green\")\n",
    "fig=plt.plot(daily.esp_recon_KennRiverrecon,color='blue')\n",
    "#fig=plt.plot(daily.esp_recon_GatesAWSrecon,color='black')\n",
    "\n",
    "plt.legend(['ESP debris temps','Predicted from Gates 3600','Predicted from Kenn River','Predicted from Gates AWS'])\n",
    "plt.rcParams[\"figure.figsize\"] = (12,6)\n",
    "plt.show()"
   ]
  },
  {
   "cell_type": "code",
   "execution_count": null,
   "id": "961ee675-ce4b-4676-9a68-12fd69524e80",
   "metadata": {},
   "outputs": [],
   "source": [
    "## CHECK CORRELATIONS\n",
    "\n",
    "# calculate and annotate correlation coefficient (use pandas correlation calculator because it will ignore nans)\n",
    "daily.corr()"
   ]
  },
  {
   "cell_type": "markdown",
   "id": "9861ff97-de29-4643-a7a9-dc0acb72322f",
   "metadata": {
    "tags": []
   },
   "source": [
    "### Summary\n",
    "It looks like Gates 3600 is much better at predicting temps at the ESP AWS than the Gates AWS. I checked with correlations though and the river is best. ESP (at daily) correlates with Gates 3600 at 0.89, with Gates AWS at 0.88, and with KennRiver recon at 0.98. --just the lapse rate is off. You can clearly see that the Gates AWS predicts much too high temps on hot days--even on the debris where we would expect more solar heating, so the strategy of reconstructing glacier temps from the regressed (predicted) temps at Gates 3600 is a good one. \n",
    "\n",
    "Interesting trend of the Gates3600 reconstruction starting a little too cold, and by the end too hot. Either Gates is warming up over the season, or debris is cooling down?\n",
    "\n",
    "\n",
    "\n",
    "\n",
    "2. look at pdd (instead of regression) as a measure of success in reconstruction\n"
   ]
  },
  {
   "cell_type": "code",
   "execution_count": null,
   "id": "120d89bc-0162-4195-bcac-fd323772774f",
   "metadata": {
    "tags": []
   },
   "outputs": [],
   "source": [
    "## RECALCULATE 'BEST' LAPSE RATES FOR DEBRIS\n",
    "\n",
    "# lapse rate from Tristan = -4.06 degC / km  (this variable is 'lr')\n",
    "# lapse rate between Gates3600 and Kenn6100 is -3.72 (this variable is 'lr2')\n",
    "# Elevs: Gates AWS = 1237.5, Gates3600 = 1070, ChineseAWS = 2185, Kenn6100 = 1830, KennRiver = 409, Debris = 546\n",
    "\n",
    "# diff1 is temp differences, daily, between esp and Gates 3600\n",
    "daily['diff3'] = daily['esp'] - daily['Gates3600recon']\n",
    "# diff2 is temp differences, daily, between esp and Gates 3600\n",
    "daily['diff4'] = daily['esp'] - dailykr21['KennRiver_degC']\n",
    "\n",
    "# print mean differences\n",
    "print (\"Mean of differences between ESP and Gates3600 = \",daily['diff3'].mean())\n",
    "print (\"Mean of differences between ESP and KennRiver = \",daily['diff4'].mean())\n",
    "\n",
    "# calculate on-ice lapse rates ('lr#')\n",
    "lr3=daily['diff3'].mean() / (546-1070) * 1000\n",
    "lr4=daily['diff4'].mean() / (546-409) * 1000\n",
    "\n",
    "# print calculated lapse rates\n",
    "print(lr3)\n",
    "print(lr4)"
   ]
  },
  {
   "cell_type": "markdown",
   "id": "c605de75-2f7b-4f2f-80a6-326b22ba8242",
   "metadata": {},
   "source": [
    "### Summary\n",
    "So the lapse rate from Kenn River to the debris-site is crazy: -17deg/km. I think that's probably because it's off the ice. It's just not getting nearly the cooling from the ice of the debris-covered site, even though it's debris-covered. So it's a bad record for reconstructing temps, even though it is well-correlated with the debris-covered site. So we'll go with Gates 3600 as the best record--it is pretty well-correlated, and fits best with a lapse rate of -4.86. \n",
    "\n",
    "So we have three lapse rates to consider:\n",
    "-3.72 (Gates 3600-Kenn6100)\n",
    "-4.06 (all-glacier sites, Tristan's analysis)\n",
    "-4.86 (Gates 3600-debris-covered lower glacier)\n",
    "\n",
    "It's quite possible that the lapse rate to the lower glacier is smaller when the glacier is not debris-covered (less warming as you go downhill--the ice stays colder compared with the debris-covered sites), so I consider -4.86 to be an extreme value. One thought would be to use that lapse rate for debris-covered areas and to use -3.72 for non-debris-covered areas. The other alternative is to use the -3.72 and then have a constant \"bump\" that you give to the debris-covered sites. But I think the different lapse rates account, in a messy way, for the increasing debris-thickness as you go downglacier, causing increasingly big differences between ice and debris as you go downhill. That feels right to me. so...\n",
    "\n",
    "If that's true, then the temperature at any given site on the glacier is bimodal\n",
    "\n",
    "### ON DEBRIS\n",
    "{temp at elev *x*} = ( {temp at Gates AWS} * 0.571476 + 1.775760 ) - ( 4.86 * ( *x* - 1070) * 0.001 )\n",
    "\n",
    "### OFF DEBRIS\n",
    "{temp at elev *x*} = ( {temp at Gates AWS} * 0.571476 + 1.775760 ) - ( 3.72 * ( *x* - 1070) * 0.001 )\n"
   ]
  }
 ],
 "metadata": {
  "kernelspec": {
   "display_name": "Python 3 (ipykernel)",
   "language": "python",
   "name": "python3"
  },
  "language_info": {
   "codemirror_mode": {
    "name": "ipython",
    "version": 3
   },
   "file_extension": ".py",
   "mimetype": "text/x-python",
   "name": "python",
   "nbconvert_exporter": "python",
   "pygments_lexer": "ipython3",
   "version": "3.8.12"
  }
 },
 "nbformat": 4,
 "nbformat_minor": 5
}
